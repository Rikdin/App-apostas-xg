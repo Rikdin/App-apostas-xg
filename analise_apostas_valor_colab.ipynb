{
 "cells": [
  {
   "cell_type": "code",
   "execution_count": null,
   "id": "1f7277fb",
   "metadata": {},
   "outputs": [],
   "source": [
    "\n",
    "!pip install pandas numpy requests beautifulsoup4 openpyxl xlsxwriter\n"
   ]
  },
  {
   "cell_type": "code",
   "execution_count": null,
   "id": "5a3d3797",
   "metadata": {},
   "outputs": [],
   "source": [
    "\n",
    "import pandas as pd\n",
    "import numpy as np\n",
    "import requests\n",
    "from bs4 import BeautifulSoup\n",
    "from datetime import datetime, timedelta\n",
    "from IPython.display import FileLink\n"
   ]
  },
  {
   "cell_type": "code",
   "execution_count": null,
   "id": "0bb53d9e",
   "metadata": {},
   "outputs": [],
   "source": [
    "\n",
    "hoje = datetime.today()\n",
    "amanha = hoje + timedelta(days=1)\n",
    "\n",
    "jogos = [\n",
    "    {\"mandante\": \"Cruzeiro\", \"visitante\": \"Flamengo\"},\n",
    "    {\"mandante\": \"Palmeiras\", \"visitante\": \"Grêmio\"},\n",
    "    {\"mandante\": \"São Paulo\", \"visitante\": \"Fortaleza\"},\n",
    "    {\"mandante\": \"Athletico-PR\", \"visitante\": \"Internacional\"}\n",
    "]\n"
   ]
  },
  {
   "cell_type": "code",
   "execution_count": null,
   "id": "34bedd1b",
   "metadata": {},
   "outputs": [],
   "source": [
    "\n",
    "df = pd.DataFrame(jogos)\n",
    "df[\"xG Ataque Mandante\"] = [1.6, 1.4, 1.5, 1.3]\n",
    "df[\"xG Defesa Mandante\"] = [1.0, 1.2, 1.1, 1.3]\n",
    "df[\"xG Ataque Visitante\"] = [1.7, 1.5, 1.3, 1.4]\n",
    "df[\"xG Defesa Visitante\"] = [1.1, 1.2, 1.0, 1.1]\n",
    "df[\"Odd Mandante\"] = [2.80, 2.10, 2.40, 2.50]\n",
    "df[\"Odd Empate\"] = [3.10, 3.20, 3.00, 3.00]\n",
    "df[\"Odd Visitante\"] = [2.50, 3.20, 2.80, 2.70]\n"
   ]
  },
  {
   "cell_type": "code",
   "execution_count": null,
   "id": "e95e6b5b",
   "metadata": {},
   "outputs": [],
   "source": [
    "\n",
    "def calcular_prob_ev(row):\n",
    "    lambda_home = (row[\"xG Ataque Mandante\"] + row[\"xG Defesa Visitante\"]) / 2\n",
    "    lambda_away = (row[\"xG Ataque Visitante\"] + row[\"xG Defesa Mandante\"]) / 2\n",
    "\n",
    "    poisson_home = [(np.exp(-lambda_home) * (lambda_home**k)) / np.math.factorial(k) for k in range(6)]\n",
    "    poisson_away = [(np.exp(-lambda_away) * (lambda_away**k)) / np.math.factorial(k) for k in range(6)]\n",
    "\n",
    "    matrix = np.outer(poisson_home, poisson_away)\n",
    "\n",
    "    prob_home_win = np.sum([matrix[i, j] for i in range(6) for j in range(6) if i > j])\n",
    "    prob_draw = np.sum([matrix[i, i] for i in range(6)])\n",
    "    prob_away_win = np.sum([matrix[i, j] for i in range(6) for j in range(6) if i < j])\n",
    "\n",
    "    ev_home = (prob_home_win * row[\"Odd Mandante\"]) - 1\n",
    "    ev_draw = (prob_draw * row[\"Odd Empate\"]) - 1\n",
    "    ev_away = (prob_away_win * row[\"Odd Visitante\"]) - 1\n",
    "\n",
    "    return pd.Series([lambda_home, lambda_away, prob_home_win, prob_draw, prob_away_win, ev_home, ev_draw, ev_away])\n",
    "\n",
    "df[[\"λ Mandante\", \"λ Visitante\",\n",
    "    \"Prob Vitória M\", \"Prob Empate\", \"Prob Vitória V\",\n",
    "    \"EV Vitória M\", \"EV Empate\", \"EV Vitória V\"]] = df.apply(calcular_prob_ev, axis=1)\n"
   ]
  },
  {
   "cell_type": "code",
   "execution_count": null,
   "id": "243810ed",
   "metadata": {},
   "outputs": [],
   "source": [
    "\n",
    "arquivo = \"analise_apostas_valor.xlsx\"\n",
    "df.to_excel(arquivo, index=False)\n",
    "FileLink(arquivo)\n"
   ]
  }
 ],
 "metadata": {},
 "nbformat": 4,
 "nbformat_minor": 5
}